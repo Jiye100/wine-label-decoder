{
 "cells": [
  {
   "cell_type": "code",
   "execution_count": 2,
   "id": "92ad2cc8-fd27-45c2-b41f-0443a4df8c0e",
   "metadata": {},
   "outputs": [],
   "source": [
    "import numpy as np\n",
    "import pandas as pd\n",
    "import random"
   ]
  },
  {
   "cell_type": "code",
   "execution_count": 4,
   "id": "937673d2-c2dd-482f-bd5b-2bd6e83e2740",
   "metadata": {},
   "outputs": [],
   "source": [
    "# --- DataFrame Initialization ---\n",
    "data = {\n",
    "    \"grape\": [],\n",
    "    \"region\": [],\n",
    "    \"vintage\": [],\n",
    "    \"estate\": [],\n",
    "    \"country\": [],\n",
    "    \"designation\": [],\n",
    "    \"grape_law\": [],\n",
    "    \"region_law\": [],\n",
    "    \"vintage_law\": []\n",
    "}\n",
    "\n",
    "df = pd.DataFrame(data)\n",
    "\n",
    "# --- Vintage Range ---\n",
    "vintages = np.arange(2015, 2025)"
   ]
  },
  {
   "cell_type": "markdown",
   "id": "24ed4e71-4e9f-4e2a-a9ea-5fcb31d1c199",
   "metadata": {},
   "source": [
    "### Chile ###"
   ]
  },
  {
   "cell_type": "code",
   "execution_count": 5,
   "id": "af8006d9-dd85-4986-8ff8-a6c58ecc5da1",
   "metadata": {},
   "outputs": [],
   "source": [
    "# Wine categories\n",
    "chile_grapes = [\"cabernet sauvignon\", \"carmenere\", \"merlot\", \"syrah\", \"chardonnay\", \"sauvignon blanc\"]\n",
    "chile_regions = [\"maipo valley\", \"colchagua valley\", \"maule valley\", \"cachapoal valley\", \"limari valley\"]\n",
    "chile_designations = [\"DO\", \"Reserva\", \"Gran Reserva\", \"Reserva Especial\"]\n",
    "\n",
    "# Chile generation logic\n",
    "for region in chile_regions:\n",
    "    for _ in range(15):\n",
    "        designation = random.choice(chile_designations) if region != \"limari valley\" else \"DO\"\n",
    "        label = {\n",
    "            \"grape\": random.choice(chile_grapes),\n",
    "            \"region\": region,\n",
    "            \"vintage\": random.choice(vintages),\n",
    "            \"estate\": random.choice([True, False]),\n",
    "            \"country\": \"chile\",\n",
    "            \"designation\": designation,\n",
    "            \"grape_law\": 0.75,\n",
    "            \"region_law\": 0.75,\n",
    "            \"vintage_law\": 0.75\n",
    "        }\n",
    "        df.loc[len(df)] = label"
   ]
  },
  {
   "cell_type": "markdown",
   "id": "6a75a065-7d75-4792-9673-a981b0f0f3e1",
   "metadata": {},
   "source": [
    "### Argentina ###"
   ]
  },
  {
   "cell_type": "code",
   "execution_count": 7,
   "id": "091ef343-1355-48f9-b4e7-5c2e38e8325b",
   "metadata": {},
   "outputs": [],
   "source": [
    "# Wine categories\n",
    "argentina_grapes = [\"malbec\", \"bonarda\", \"cabernet sauvignon\", \"torrontes\", \"syrah\", \"merlot\"]\n",
    "argentina_regions_ig = [\"mendoza\", \"san juan\", \"la rioja\"]\n",
    "argentina_regions_doc = [\"san rafael\", \"luján de cuyo\"]\n",
    "\n",
    "# Argentina generation logic\n",
    "for region in argentina_regions_ig + argentina_regions_doc:\n",
    "    for _ in range(15):\n",
    "        if region in argentina_regions_doc:\n",
    "            designation = \"DOC\"\n",
    "            region_law = 1.0\n",
    "        else:\n",
    "            designation = \"IG\"\n",
    "            region_law = 0.85\n",
    "        \n",
    "        label = {\n",
    "            \"grape\": random.choice(argentina_grapes),\n",
    "            \"region\": region,\n",
    "            \"vintage\": random.choice(vintages),\n",
    "            \"estate\": random.choice([True, False]),\n",
    "            \"country\": \"argentina\",\n",
    "            \"designation\": designation,\n",
    "            \"grape_law\": 0.85,\n",
    "            \"region_law\": region_law,\n",
    "            \"vintage_law\": 0.85\n",
    "        }\n",
    "        df.loc[len(df)] = label"
   ]
  },
  {
   "cell_type": "markdown",
   "id": "d1050ec7-c4f1-4c88-8074-f0f10e5d3f3c",
   "metadata": {},
   "source": [
    "### South Africa ###"
   ]
  },
  {
   "cell_type": "code",
   "execution_count": 6,
   "id": "502bb1ad-609e-45b0-a618-27047a02649b",
   "metadata": {},
   "outputs": [],
   "source": [
    "# Wine categories\n",
    "south_africa_grapes = [\"chenin blanc\", \"pinotage\", \"sauvignon blanc\", \"cabernet sauvignon\", \"chardonnay\", \n",
    "                       \"colombard\", \"muscat of alexandria\", \"shiraz\", \"merlot\"]\n",
    "south_africa_regions = [\"stellenbosch\", \"western cape\", \"paarl\", \"robertson\", \"swartland\", \"walker bay\", \"cape town\"]\n",
    "south_africa_designations = [\"WO\", \"Estate\"]\n",
    "\n",
    "# South Africa generation logic\n",
    "for region in south_africa_regions:\n",
    "    for _ in range(15):\n",
    "        designation = \"WO\"\n",
    "        estate = random.choice([True, False])\n",
    "\n",
    "        label = {\n",
    "            \"grape\": random.choice(south_africa_grapes),\n",
    "            \"region\": region,\n",
    "            \"vintage\": random.choice(vintages),\n",
    "            \"estate\": estate,\n",
    "            \"country\": \"south africa\",\n",
    "            \"designation\": designation,\n",
    "            \"grape_law\": 0.85,\n",
    "            \"region_law\": 1.0,\n",
    "            \"vintage_law\": 0.85\n",
    "        }\n",
    "        df.loc[len(df)] = label"
   ]
  },
  {
   "cell_type": "code",
   "execution_count": 9,
   "id": "fd6672f5-a7ad-46d3-a8ea-777f983ca833",
   "metadata": {},
   "outputs": [
    {
     "name": "stdout",
     "output_type": "stream",
     "text": [
      "\n",
      "Generated International Wine Dataset:\n",
      "                grape        region  vintage  estate country  \\\n",
      "0              merlot  maipo valley     2019   False   chile   \n",
      "1               syrah  maipo valley     2015   False   chile   \n",
      "2          chardonnay  maipo valley     2021   False   chile   \n",
      "3  cabernet sauvignon  maipo valley     2023    True   chile   \n",
      "4           carmenere  maipo valley     2022    True   chile   \n",
      "5           carmenere  maipo valley     2020    True   chile   \n",
      "6  cabernet sauvignon  maipo valley     2016    True   chile   \n",
      "7     sauvignon blanc  maipo valley     2015   False   chile   \n",
      "8               syrah  maipo valley     2020    True   chile   \n",
      "9          chardonnay  maipo valley     2023    True   chile   \n",
      "\n",
      "        designation  grape_law  region_law  vintage_law  \n",
      "0  Reserva Especial       0.75        0.75         0.75  \n",
      "1  Reserva Especial       0.75        0.75         0.75  \n",
      "2           Reserva       0.75        0.75         0.75  \n",
      "3                DO       0.75        0.75         0.75  \n",
      "4           Reserva       0.75        0.75         0.75  \n",
      "5           Reserva       0.75        0.75         0.75  \n",
      "6  Reserva Especial       0.75        0.75         0.75  \n",
      "7                DO       0.75        0.75         0.75  \n",
      "8      Gran Reserva       0.75        0.75         0.75  \n",
      "9                DO       0.75        0.75         0.75  \n"
     ]
    }
   ],
   "source": [
    "# --- Column Ordering ---\n",
    "# To match your existing structure\n",
    "df = df[[\n",
    "    \"grape\",\n",
    "    \"region\",\n",
    "    \"vintage\",\n",
    "    \"estate\",\n",
    "    \"country\",\n",
    "    \"designation\",\n",
    "    \"grape_law\",\n",
    "    \"region_law\",\n",
    "    \"vintage_law\"\n",
    "]]\n",
    "\n",
    "# --- Save to CSV ---\n",
    "df.to_csv(\"CL_ARG_ZA_wines.csv\", index=False)\n",
    "\n",
    "# --- Preview ---\n",
    "print(\"\\nGenerated International Wine Dataset:\")\n",
    "print(df.head(10))"
   ]
  },
  {
   "cell_type": "code",
   "execution_count": null,
   "id": "d5a89a6c-a25c-4638-9f0e-6a8b645459d8",
   "metadata": {},
   "outputs": [],
   "source": []
  }
 ],
 "metadata": {
  "kernelspec": {
   "display_name": "Python 3 (ipykernel)",
   "language": "python",
   "name": "python3"
  },
  "language_info": {
   "codemirror_mode": {
    "name": "ipython",
    "version": 3
   },
   "file_extension": ".py",
   "mimetype": "text/x-python",
   "name": "python",
   "nbconvert_exporter": "python",
   "pygments_lexer": "ipython3",
   "version": "3.12.9"
  }
 },
 "nbformat": 4,
 "nbformat_minor": 5
}
