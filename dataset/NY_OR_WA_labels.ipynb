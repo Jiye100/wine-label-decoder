{
 "cells": [
  {
   "cell_type": "code",
   "execution_count": 21,
   "metadata": {
    "id": "bpyrbVbmLkRa"
   },
   "outputs": [],
   "source": [
    "import numpy as np\n",
    "import pandas as pd\n",
    "import random"
   ]
  },
  {
   "cell_type": "code",
   "execution_count": 22,
   "metadata": {
    "id": "i2IZMQwVLqRt"
   },
   "outputs": [],
   "source": [
    "data = {\n",
    "    \"grape\": [],\n",
    "    \"region\": [],\n",
    "    \"vintage\": [],\n",
    "    \"estate\": [],\n",
    "    \"grape_law\": [],\n",
    "    \"region_law\": [],\n",
    "    \"vintage_law\": [],\n",
    "    \"country\": [],\n",
    "    \"designation\": []\n",
    "}\n",
    "\n",
    "df = pd.DataFrame(data)"
   ]
  },
  {
   "cell_type": "markdown",
   "metadata": {
    "id": "UVN8j7dnU6JI"
   },
   "source": [
    "##Washington\n",
    "Important grapes: Riesling, Chardonnay, Pinot Gris, Cabernet Sauvignon, Merlot, Syrah\n",
    "\n",
    "Varietal Label: 75%\n",
    "\n",
    "Region: 95% (100% for estate)\n",
    "\n",
    "Vintage: 95% if AVA, 85% if state wine"
   ]
  },
  {
   "cell_type": "code",
   "execution_count": 23,
   "metadata": {
    "id": "lRD9iyYSM0Ky"
   },
   "outputs": [],
   "source": [
    "# Washington wine categories\n",
    "wa_grape = [\"riesling\", \"chardonnay\", \"pinot gris\", \"cabernet sauvignon\", \"merlot\", \"syrah\"]\n",
    "wa_region = [\"wa\", \"washington\", \"columbia valley\", \"yakima valley\", \"walla walla valley\", \"red mountain\", \"horse heaven hills\", \"wahluke slope\", \"rattlesnake hills\", \"snipes mountain\"]\n",
    "wa_vintage = np.arange(2015, 2025)"
   ]
  },
  {
   "cell_type": "code",
   "execution_count": 24,
   "metadata": {
    "id": "O1m0UpEaNpKc"
   },
   "outputs": [],
   "source": [
    "# Similar ratio between state wine and AVA wine\n",
    "# 6 grapes, 2 states (18), 8 AVAs (6)\n",
    "# Honestly can simplify feature as WA or WA AVA\n",
    "for region in wa_region:\n",
    "  num = 6\n",
    "  if region in [\"wa\", \"washington\"]:\n",
    "    num = 18\n",
    "\n",
    "  isAVA = region not in [\"wa\", \"washington\"]\n",
    "  for i in range(num):\n",
    "    isEstate = (random.randint(0, 3) == 0)\n",
    "    label = {\"grape\": random.choice(wa_grape),\n",
    "             \"region\": region,\n",
    "             \"vintage\": random.choice(wa_vintage),\n",
    "             \"estate\": isEstate,\n",
    "             \"grape_law\": 0.75,\n",
    "             \"region_law\": 1 if isEstate else 0.95,\n",
    "             \"vintage_law\": 0.95 if isAVA else 0.85,\n",
    "             \"country\": \"washington\",\n",
    "             \"designation\": \"Estate\" if isEstate else (\"AVA\" if isAVA else \"Country\")\n",
    "             }\n",
    "    df.loc[len(df)] = label"
   ]
  },
  {
   "cell_type": "markdown",
   "metadata": {
    "id": "rEN_vtvgU9be"
   },
   "source": [
    "##Oregon\n",
    "\n",
    "Important grapes: Pinot Noir, Pinot Gris, Chardonnay, Syrah, Cabernet Sauvignon\n",
    "\n",
    "Varietal Label: 90% except 18 full bodied red varietals (Cabernet franc, Cabernet Sauvignon, Carmenere, Petite Sirah, Grenache, Malbec, Marsanne, Merlot, Mourvedre, Petit Verdot, Roussanne, Sangiovese, Sauvignon blanc, Semillion, Syrah, Tannat, Tempranillo and Zinfandel) that require 75%\n",
    "\n",
    "Region: 95% if AVA, 100% if state or estate\n",
    "\n",
    "Vintage: 95% if AVA, 85% if state"
   ]
  },
  {
   "cell_type": "code",
   "execution_count": 25,
   "metadata": {
    "id": "LOv79Q7ZU_So"
   },
   "outputs": [],
   "source": [
    "or_grape = [\"pinot noir\", \"pinot gris\", \"chardonnay\"]\n",
    "or_grape_75 = [\"cabernet franc\", \"cabernet sauvignon\", \"carmenere\", \"petite sirah\", \"grenache\", \"malbec\", \"marsanne\", \"merlot\", \"mourvedre\", \"petit verdot\", \"roussanne\", \"sangiovese\", \"sauvignon blanc\", \"semillion\", \"syrah\", \"tannat\", \"tempranillo\", \"zinfandel\"]\n",
    "or_region = [\"or\", \"oregon\", \"willamette valley\", \"dundee hills\", \"yamhill-carlton\", \"mcminnville\", \"ribbon ridge\", \"chehalem mountains\", \"umpqua valley\", \"rogue valley\", \"applegate valley\"]\n",
    "or_vintage = np.arange(2015, 2025)"
   ]
  },
  {
   "cell_type": "code",
   "execution_count": 26,
   "metadata": {
    "id": "cWWKIQHWVgEo"
   },
   "outputs": [],
   "source": [
    "# 2 states (18), 9 AVAs (6)\n",
    "# 75% wines Cabernet franc, Cabernet Sauvignon, Carmenere, Petite Sirah, Grenache, Malbec, Marsanne, Merlot, Mourvedre, Petit Verdot, Roussanne, Sangiovese, Sauvignon blanc, Semillion, Syrah, Tannat, Tempranillo and Zinfandel\n",
    "for region in or_region:\n",
    "  num = 6\n",
    "  if region in [\"or\", \"oregon\"]:\n",
    "    num = 18\n",
    "\n",
    "  isAVA = region not in [\"or\", \"oregon\"]\n",
    "\n",
    "  for i in range(num):\n",
    "    is75 = random.randint(0, 1) == 0\n",
    "    if is75:\n",
    "      grape = random.choice(or_grape_75)\n",
    "    else:\n",
    "      grape = random.choice(or_grape)\n",
    "    isEstate = (random.randint(0, 3) == 0)\n",
    "\n",
    "    label = {\"grape\": grape,\n",
    "             \"region\": region,\n",
    "             \"vintage\": random.choice(or_vintage),\n",
    "             \"estate\": isEstate,\n",
    "             \"grape_law\": 0.75 if is75 else 0.90,\n",
    "             \"region_law\": 1 if (isEstate or not isAVA) else 0.95,\n",
    "             \"vintage_law\": 0.95 if isAVA else 0.85,\n",
    "             \"country\": \"oregon\",\n",
    "             \"designation\": \"Estate\" if isEstate else (\"AVA\" if isAVA else \"Country\")\n",
    "             }\n",
    "    df.loc[len(df)] = label"
   ]
  },
  {
   "cell_type": "markdown",
   "metadata": {
    "id": "2sUuxkgLW-GW"
   },
   "source": [
    "##New York\n",
    "Important grapes: Riesling, Chardonnay, Merlot, Cabernet Sauvignon, Pinot Noir\n",
    "\n",
    "Varietal Label: 75%\n",
    "\n",
    "Region: 75% if state, 85% if AVA (100% for estate)\n",
    "\n",
    "Vintage: 85% if state, 95% if AVA\n",
    "\n",
    "MISSING SINGLE VINEYARD"
   ]
  },
  {
   "cell_type": "code",
   "execution_count": 27,
   "metadata": {
    "id": "A9uSm5baW_30"
   },
   "outputs": [],
   "source": [
    "ny_grape = [\"riesling\", \"chardonnay\", \"cabernet franc\", \"merlot\", \"cabernet sauvignon\", \"pinot noir\"]\n",
    "ny_region = [\"ny\", \"new york\", \"finger lakes\", \"cayuga lake\", \"seneca lake\", \"north fork of long island\", \"hamptons\", \"hudson river region\", \"lake erie\"]\n",
    "ny_vintage = np.arange(2015, 2025)"
   ]
  },
  {
   "cell_type": "code",
   "execution_count": 28,
   "metadata": {
    "id": "G7ZZ4JNlesFu"
   },
   "outputs": [],
   "source": [
    "# 2 states (18), 7 AVAs (8)\n",
    "for region in ny_region:\n",
    "  num = 8\n",
    "  if region in [\"ny\", \"new york\"]:\n",
    "    num = 18\n",
    "  isAVA = region not in [\"ny\", \"new york\"]\n",
    "\n",
    "  for i in range(num):\n",
    "    isEstate = (random.randint(0, 3) == 0)\n",
    "    label = {\"grape\": random.choice(ny_grape),\n",
    "             \"region\": region,\n",
    "             \"vintage\": random.choice(ny_vintage),\n",
    "             \"estate\": isEstate,\n",
    "             \"grape_law\": 0.75,\n",
    "             \"region_law\": 0.95 if isAVA else 1 if isEstate else 0.85,\n",
    "             \"vintage_law\": 0.95 if isAVA else 0.85,\n",
    "             \"country\": \"new york\",\n",
    "             \"designation\": \"Estate\" if isEstate else (\"AVA\" if isAVA else \"Country\")\n",
    "            }\n",
    "    df.loc[len(df)] = label"
   ]
  },
  {
   "cell_type": "code",
   "execution_count": 31,
   "metadata": {},
   "outputs": [
    {
     "name": "stdout",
     "output_type": "stream",
     "text": [
      "NY, OR, WA wines saved to NY_OR_WA_wines.csv\n"
     ]
    }
   ],
   "source": [
    "# Save to CSV\n",
    "df.to_csv('NY_OR_WA_wines.csv', index=False)\n",
    "print(\"NY, OR, WA wines saved to NY_OR_WA_wines.csv\")"
   ]
  },
  {
   "cell_type": "markdown",
   "metadata": {
    "id": "jhlxvvejYgc7"
   },
   "source": [
    "##Analysis"
   ]
  },
  {
   "cell_type": "code",
   "execution_count": 29,
   "metadata": {
    "colab": {
     "base_uri": "https://localhost:8080/"
    },
    "id": "7Ci31r66ftt1",
    "outputId": "8531270c-4598-4be6-b04b-9f600d5918ec"
   },
   "outputs": [
    {
     "name": "stdout",
     "output_type": "stream",
     "text": [
      "\n",
      "GRAPES\n",
      "riesling 30\n",
      "chardonnay 32\n",
      "pinot gris 32\n",
      "cabernet sauvignon 38\n",
      "merlot 34\n",
      "syrah 15\n",
      "pinot noir 27\n",
      "cabernet franc 19\n",
      "\n",
      "REGIONS\n",
      "wa 18\n",
      "wa(not estate) 16\n",
      "\n",
      "washington 18\n",
      "washington(not estate) 15\n",
      "\n",
      "columbia valley 6\n",
      "columbia valley(not estate) 5\n",
      "\n",
      "yakima valley 6\n",
      "yakima valley(not estate) 2\n",
      "\n",
      "walla walla valley 6\n",
      "walla walla valley(not estate) 5\n",
      "\n",
      "red mountain 6\n",
      "red mountain(not estate) 4\n",
      "\n",
      "horse heaven hills 6\n",
      "horse heaven hills(not estate) 6\n",
      "\n",
      "wahluke slope 6\n",
      "wahluke slope(not estate) 5\n",
      "\n",
      "rattlesnake hills 6\n",
      "rattlesnake hills(not estate) 5\n",
      "\n",
      "snipes mountain 6\n",
      "snipes mountain(not estate) 5\n",
      "\n",
      "or 18\n",
      "or(not estate) 13\n",
      "\n",
      "oregon 18\n",
      "oregon(not estate) 13\n",
      "\n",
      "willamette valley 6\n",
      "willamette valley(not estate) 5\n",
      "\n",
      "dundee hills 6\n",
      "dundee hills(not estate) 5\n",
      "\n",
      "yamhill-carlton 6\n",
      "yamhill-carlton(not estate) 4\n",
      "\n",
      "mcminnville 6\n",
      "mcminnville(not estate) 3\n",
      "\n",
      "ribbon ridge 6\n",
      "ribbon ridge(not estate) 4\n",
      "\n",
      "chehalem mountains 6\n",
      "chehalem mountains(not estate) 6\n",
      "\n",
      "umpqua valley 6\n",
      "umpqua valley(not estate) 6\n",
      "\n",
      "rogue valley 6\n",
      "rogue valley(not estate) 3\n",
      "\n",
      "applegate valley 6\n",
      "applegate valley(not estate) 5\n",
      "\n",
      "ny 18\n",
      "ny(not estate) 14\n",
      "\n",
      "new york 18\n",
      "new york(not estate) 13\n",
      "\n",
      "finger lakes 8\n",
      "finger lakes(not estate) 7\n",
      "\n",
      "cayuga lake 8\n",
      "cayuga lake(not estate) 3\n",
      "\n",
      "seneca lake 8\n",
      "seneca lake(not estate) 4\n",
      "\n",
      "north fork of long island 8\n",
      "north fork of long island(not estate) 6\n",
      "\n",
      "hamptons 8\n",
      "hamptons(not estate) 6\n",
      "\n",
      "hudson river region 8\n",
      "hudson river region(not estate) 6\n",
      "\n",
      "lake erie 8\n",
      "lake erie(not estate) 6\n",
      "\n",
      "\n",
      "VINTAGES\n",
      "2015 32\n",
      "2024 27\n",
      "2018 26\n",
      "2022 20\n",
      "2020 36\n",
      "2023 22\n",
      "2016 30\n",
      "2019 29\n",
      "2021 21\n",
      "2017 23\n",
      "\n",
      "ESTATES\n",
      "estate 66\n"
     ]
    }
   ],
   "source": [
    "grapes = [\"riesling\", \"chardonnay\", \"pinot gris\", \"cabernet sauvignon\", \"merlot\", \"syrah\", \"pinot noir\", \"cabernet franc\"]\n",
    "print(\"\\nGRAPES\")\n",
    "for grape in grapes:\n",
    "  print(grape, len(df[df[\"grape\"] == grape]))\n",
    "\n",
    "print(\"\\nREGIONS\")\n",
    "for region in df['region'].unique().tolist():\n",
    "  print(region, len(df[df[\"region\"] == region]))\n",
    "  print(region + \"(not estate)\", len(df[(df['region'] == region) & (df['estate'] == False)]))\n",
    "  print()\n",
    "\n",
    "print(\"\\nVINTAGES\")\n",
    "for vintage in df['vintage'].unique().tolist():\n",
    "  print(vintage, len(df[df[\"vintage\"] == vintage]))\n",
    "\n",
    "print(\"\\nESTATES\")\n",
    "print(\"estate\", len(df[df[\"estate\"] == True]))"
   ]
  },
  {
   "cell_type": "code",
   "execution_count": 30,
   "metadata": {
    "colab": {
     "base_uri": "https://localhost:8080/",
     "height": 206
    },
    "id": "NP1knw6hgqiK",
    "outputId": "c0d03c2c-cc09-4097-d553-2e7d281af568"
   },
   "outputs": [
    {
     "data": {
      "text/html": [
       "<div>\n",
       "<style scoped>\n",
       "    .dataframe tbody tr th:only-of-type {\n",
       "        vertical-align: middle;\n",
       "    }\n",
       "\n",
       "    .dataframe tbody tr th {\n",
       "        vertical-align: top;\n",
       "    }\n",
       "\n",
       "    .dataframe thead th {\n",
       "        text-align: right;\n",
       "    }\n",
       "</style>\n",
       "<table border=\"1\" class=\"dataframe\">\n",
       "  <thead>\n",
       "    <tr style=\"text-align: right;\">\n",
       "      <th></th>\n",
       "      <th>grape</th>\n",
       "      <th>region</th>\n",
       "      <th>vintage</th>\n",
       "      <th>estate</th>\n",
       "      <th>grape_law</th>\n",
       "      <th>region_law</th>\n",
       "      <th>vintage_law</th>\n",
       "      <th>country</th>\n",
       "      <th>designation</th>\n",
       "    </tr>\n",
       "  </thead>\n",
       "  <tbody>\n",
       "    <tr>\n",
       "      <th>0</th>\n",
       "      <td>chardonnay</td>\n",
       "      <td>wa</td>\n",
       "      <td>2015</td>\n",
       "      <td>False</td>\n",
       "      <td>0.75</td>\n",
       "      <td>0.95</td>\n",
       "      <td>0.85</td>\n",
       "      <td>washington</td>\n",
       "      <td>Country</td>\n",
       "    </tr>\n",
       "    <tr>\n",
       "      <th>1</th>\n",
       "      <td>pinot gris</td>\n",
       "      <td>wa</td>\n",
       "      <td>2024</td>\n",
       "      <td>False</td>\n",
       "      <td>0.75</td>\n",
       "      <td>0.95</td>\n",
       "      <td>0.85</td>\n",
       "      <td>washington</td>\n",
       "      <td>Country</td>\n",
       "    </tr>\n",
       "    <tr>\n",
       "      <th>2</th>\n",
       "      <td>pinot gris</td>\n",
       "      <td>wa</td>\n",
       "      <td>2018</td>\n",
       "      <td>False</td>\n",
       "      <td>0.75</td>\n",
       "      <td>0.95</td>\n",
       "      <td>0.85</td>\n",
       "      <td>washington</td>\n",
       "      <td>Country</td>\n",
       "    </tr>\n",
       "    <tr>\n",
       "      <th>3</th>\n",
       "      <td>chardonnay</td>\n",
       "      <td>wa</td>\n",
       "      <td>2015</td>\n",
       "      <td>False</td>\n",
       "      <td>0.75</td>\n",
       "      <td>0.95</td>\n",
       "      <td>0.85</td>\n",
       "      <td>washington</td>\n",
       "      <td>Country</td>\n",
       "    </tr>\n",
       "    <tr>\n",
       "      <th>4</th>\n",
       "      <td>cabernet sauvignon</td>\n",
       "      <td>wa</td>\n",
       "      <td>2022</td>\n",
       "      <td>False</td>\n",
       "      <td>0.75</td>\n",
       "      <td>0.95</td>\n",
       "      <td>0.85</td>\n",
       "      <td>washington</td>\n",
       "      <td>Country</td>\n",
       "    </tr>\n",
       "  </tbody>\n",
       "</table>\n",
       "</div>"
      ],
      "text/plain": [
       "                grape region  vintage  estate  grape_law  region_law  \\\n",
       "0          chardonnay     wa     2015   False       0.75        0.95   \n",
       "1          pinot gris     wa     2024   False       0.75        0.95   \n",
       "2          pinot gris     wa     2018   False       0.75        0.95   \n",
       "3          chardonnay     wa     2015   False       0.75        0.95   \n",
       "4  cabernet sauvignon     wa     2022   False       0.75        0.95   \n",
       "\n",
       "   vintage_law     country designation  \n",
       "0         0.85  washington     Country  \n",
       "1         0.85  washington     Country  \n",
       "2         0.85  washington     Country  \n",
       "3         0.85  washington     Country  \n",
       "4         0.85  washington     Country  "
      ]
     },
     "execution_count": 30,
     "metadata": {},
     "output_type": "execute_result"
    }
   ],
   "source": [
    "df.head()"
   ]
  }
 ],
 "metadata": {
  "colab": {
   "provenance": []
  },
  "kernelspec": {
   "display_name": "Python 3 (ipykernel)",
   "language": "python",
   "name": "python3"
  },
  "language_info": {
   "codemirror_mode": {
    "name": "ipython",
    "version": 3
   },
   "file_extension": ".py",
   "mimetype": "text/x-python",
   "name": "python",
   "nbconvert_exporter": "python",
   "pygments_lexer": "ipython3",
   "version": "3.12.9"
  }
 },
 "nbformat": 4,
 "nbformat_minor": 4
}
