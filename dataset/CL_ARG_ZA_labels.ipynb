{
 "cells": [
  {
   "cell_type": "code",
   "execution_count": 28,
   "id": "92ad2cc8-fd27-45c2-b41f-0443a4df8c0e",
   "metadata": {},
   "outputs": [],
   "source": [
    "import numpy as np\n",
    "import pandas as pd\n",
    "import random"
   ]
  },
  {
   "cell_type": "code",
   "execution_count": 29,
   "id": "937673d2-c2dd-482f-bd5b-2bd6e83e2740",
   "metadata": {},
   "outputs": [],
   "source": [
    "# --- DataFrame Initialization ---\n",
    "data = {\n",
    "    \"grape\": [],\n",
    "    \"region\": [],\n",
    "    \"vintage\": [],\n",
    "    \"estate\": [],\n",
    "    \"grape_law\": [],\n",
    "    \"region_law\": [],\n",
    "    \"vintage_law\": [],    \n",
    "    \"country\": [],\n",
    "    \"designation\": []\n",
    "}\n",
    "\n",
    "df = pd.DataFrame(data)\n",
    "\n",
    "# --- Vintage Range ---\n",
    "vintages = np.arange(2015, 2025)"
   ]
  },
  {
   "cell_type": "markdown",
   "id": "24ed4e71-4e9f-4e2a-a9ea-5fcb31d1c199",
   "metadata": {},
   "source": [
    "### Chile ###"
   ]
  },
  {
   "cell_type": "code",
   "execution_count": 30,
   "id": "af8006d9-dd85-4986-8ff8-a6c58ecc5da1",
   "metadata": {},
   "outputs": [],
   "source": [
    "# Wine categories\n",
    "chile_grapes = [\"cabernet sauvignon\", \"carmenere\", \"merlot\", \"pais\", \"chardonnay\", \"sauvignon blanc\",\n",
    "               \"moscatel of alexandria\"]\n",
    "chile_regions = [\"chile\", \"maipo valley\", \"rapel valley\", \"colchagua valley\", \"maule valley\", \"cachapoal valley\", \n",
    "                 \"limari valley\", \"curico valley\", \"elqui\", \"limari\", \"casablanca\"]\n",
    "chile_designations = [\"DO\", \"Reserva\", \"Gran Reserva\", \"Reserva Especial\"]\n",
    "\n",
    "# Chile generation logic\n",
    "for region in chile_regions:\n",
    "    for _ in range(15):\n",
    "        designation = random.choice(chile_designations) if region != \"limari valley\" else \"DO\"\n",
    "        label = {\n",
    "            \"grape\": random.choice(chile_grapes),\n",
    "            \"region\": region,\n",
    "            \"vintage\": random.choice(vintages),\n",
    "            \"estate\": random.choice([True, False]),\n",
    "            \"grape_law\": 0.85,\n",
    "            \"region_law\": 0.85,\n",
    "            \"vintage_law\": 0.85,\n",
    "            \"country\": \"chile\",\n",
    "            \"designation\": designation\n",
    "        }\n",
    "        df.loc[len(df)] = label"
   ]
  },
  {
   "cell_type": "markdown",
   "id": "6a75a065-7d75-4792-9673-a981b0f0f3e1",
   "metadata": {},
   "source": [
    "### Argentina ###"
   ]
  },
  {
   "cell_type": "code",
   "execution_count": 31,
   "id": "091ef343-1355-48f9-b4e7-5c2e38e8325b",
   "metadata": {},
   "outputs": [],
   "source": [
    "# Wine categories\n",
    "argentina_grapes = [\"malbec\", \"torrontes riojano\", \"bonarda\", \"cabernet sauvignon\", \n",
    "                    \"torrontes\", \"shiraz\", \"chardonnay\", \"chenin blanc\", \"sauvignon blanc\", \"syrah\"]\n",
    "argentina_regions_ig = [\"argentina\", \"mendoza\", \"san juan\", \"la rioja\"]\n",
    "argentina_regions_doc = [\"san rafael\", \"luján de cuyo\"]\n",
    "\n",
    "# Argentina generation logic\n",
    "for region in argentina_regions_ig + argentina_regions_doc:\n",
    "    for _ in range(15):\n",
    "        if region in argentina_regions_doc:\n",
    "            designation = \"DOC\"\n",
    "            region_law = 1.0\n",
    "        else:\n",
    "            designation = \"IG\"\n",
    "            region_law = 0.85\n",
    "        \n",
    "        label = {\n",
    "            \"grape\": random.choice(argentina_grapes),\n",
    "            \"region\": region,\n",
    "            \"vintage\": random.choice(vintages),\n",
    "            \"estate\": random.choice([True, False]),\n",
    "            \"grape_law\": 0.85,\n",
    "            \"region_law\": region_law,\n",
    "            \"vintage_law\": 0.0,\n",
    "            \"country\": \"argentina\",\n",
    "            \"designation\": designation\n",
    "        }\n",
    "        df.loc[len(df)] = label"
   ]
  },
  {
   "cell_type": "markdown",
   "id": "d1050ec7-c4f1-4c88-8074-f0f10e5d3f3c",
   "metadata": {},
   "source": [
    "### South Africa ###"
   ]
  },
  {
   "cell_type": "code",
   "execution_count": 32,
   "id": "502bb1ad-609e-45b0-a618-27047a02649b",
   "metadata": {},
   "outputs": [],
   "source": [
    "# Wine categories\n",
    "south_africa_grapes = [\"chenin blanc\", \"pinotage\", \"sauvignon blanc\", \"cabernet sauvignon\", \"chardonnay\", \n",
    "                       \"colombard\", \"muscat of alexandria\", \"shiraz\", \"syrah\", \"merlot\"]\n",
    "south_africa_regions = [\"south africa\", \"stellenbosch\", \"western cape\", \"paarl\", \"robertson\", \"swartland\", \"walker bay\", \"cape town\"]\n",
    "south_africa_designations = [\"WO\", \"Estate\"]\n",
    "\n",
    "# South Africa generation logic\n",
    "for region in south_africa_regions:\n",
    "    for _ in range(15):\n",
    "        designation = \"WO\"\n",
    "        estate = random.choice([True, False])\n",
    "\n",
    "        label = {\n",
    "            \"grape\": random.choice(south_africa_grapes),\n",
    "            \"region\": region,\n",
    "            \"vintage\": random.choice(vintages),\n",
    "            \"estate\": estate,\n",
    "            \"grape_law\": 0.85,\n",
    "            \"region_law\": 1.0,\n",
    "            \"vintage_law\": 0.85,\n",
    "            \"country\": \"south africa\",\n",
    "            \"designation\": designation\n",
    "        }\n",
    "        df.loc[len(df)] = label"
   ]
  },
  {
   "cell_type": "code",
   "execution_count": 33,
   "id": "fd6672f5-a7ad-46d3-a8ea-777f983ca833",
   "metadata": {},
   "outputs": [
    {
     "name": "stdout",
     "output_type": "stream",
     "text": [
      "\n",
      "Generated International Wine Dataset:\n",
      "                    grape region  vintage  estate  grape_law  region_law  \\\n",
      "0              chardonnay  chile     2023    True       0.85        0.85   \n",
      "1                  merlot  chile     2016   False       0.85        0.85   \n",
      "2               carmenere  chile     2016    True       0.85        0.85   \n",
      "3  moscatel of alexandria  chile     2019    True       0.85        0.85   \n",
      "4      cabernet sauvignon  chile     2022   False       0.85        0.85   \n",
      "5                    pais  chile     2017    True       0.85        0.85   \n",
      "6                  merlot  chile     2017    True       0.85        0.85   \n",
      "7                  merlot  chile     2020    True       0.85        0.85   \n",
      "8  moscatel of alexandria  chile     2020   False       0.85        0.85   \n",
      "9  moscatel of alexandria  chile     2019    True       0.85        0.85   \n",
      "\n",
      "   vintage_law country       designation  \n",
      "0         0.85   chile      Gran Reserva  \n",
      "1         0.85   chile           Reserva  \n",
      "2         0.85   chile           Reserva  \n",
      "3         0.85   chile      Gran Reserva  \n",
      "4         0.85   chile      Gran Reserva  \n",
      "5         0.85   chile  Reserva Especial  \n",
      "6         0.85   chile                DO  \n",
      "7         0.85   chile      Gran Reserva  \n",
      "8         0.85   chile  Reserva Especial  \n",
      "9         0.85   chile                DO  \n"
     ]
    }
   ],
   "source": [
    "# --- Save to CSV ---\n",
    "df.to_csv(\"CL_ARG_ZA_wines.csv\", index=False)\n",
    "\n",
    "# --- Preview ---\n",
    "print(\"\\nGenerated International Wine Dataset:\")\n",
    "print(df.head(10))"
   ]
  },
  {
   "cell_type": "code",
   "execution_count": null,
   "id": "d5a89a6c-a25c-4638-9f0e-6a8b645459d8",
   "metadata": {},
   "outputs": [],
   "source": []
  }
 ],
 "metadata": {
  "kernelspec": {
   "display_name": "Python 3 (ipykernel)",
   "language": "python",
   "name": "python3"
  },
  "language_info": {
   "codemirror_mode": {
    "name": "ipython",
    "version": 3
   },
   "file_extension": ".py",
   "mimetype": "text/x-python",
   "name": "python",
   "nbconvert_exporter": "python",
   "pygments_lexer": "ipython3",
   "version": "3.12.9"
  }
 },
 "nbformat": 4,
 "nbformat_minor": 5
}
