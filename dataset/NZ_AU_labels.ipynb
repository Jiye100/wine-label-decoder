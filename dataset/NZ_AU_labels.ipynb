{
 "cells": [
  {
   "cell_type": "code",
   "execution_count": 12,
   "id": "2468ed6e-6691-4bef-a5f5-55f5d4eb4abc",
   "metadata": {},
   "outputs": [],
   "source": [
    "import pandas as pd\n",
    "import numpy as np\n",
    "import random"
   ]
  },
  {
   "cell_type": "code",
   "execution_count": 13,
   "id": "fcf47b1b-bfca-42b6-9a5e-f59091eb371f",
   "metadata": {},
   "outputs": [],
   "source": [
    "# --- DataFrame Initialization ---\n",
    "data = {\n",
    "    \"grape\": [],\n",
    "    \"region\": [],\n",
    "    \"vintage\": [],\n",
    "    \"estate\": [],\n",
    "    \"grape_law\": [],\n",
    "    \"region_law\": [],\n",
    "    \"vintage_law\": [],    \n",
    "    \"country\": [],\n",
    "    \"designation\": []\n",
    "}\n",
    "\n",
    "df = pd.DataFrame(data)\n",
    "\n",
    "# --- Vintage Range ---\n",
    "vintages = np.arange(2015, 2025)"
   ]
  },
  {
   "cell_type": "markdown",
   "id": "a18977b1-b205-4f9a-bdcb-f57792984af7",
   "metadata": {},
   "source": [
    "### New Zealand ###"
   ]
  },
  {
   "cell_type": "code",
   "execution_count": 14,
   "id": "64e78a40-c737-47b7-9aba-4ee56858391f",
   "metadata": {},
   "outputs": [],
   "source": [
    "# Wine categories\n",
    "new_zealand_grapes = [\n",
    "    'sauvignon blanc', 'pinot noir', 'chardonnay', 'merlot', \n",
    "    'cabernet sauvignon', 'syrah', 'riesling', 'pinot gris', \n",
    "    'shiraz', 'malbec'\n",
    "]\n",
    "\n",
    "new_zealand_regions = [\n",
    "    'marlborough', 'martinborough', 'central otago', 'hawke\\'s bay', 'waipara valley', 'new zealand'\n",
    "]\n",
    "\n",
    "new_zealand_designations = ['Country', 'GI', 'Sub-region']\n",
    "\n",
    "# New Zealand generation logic\n",
    "for region in new_zealand_regions:\n",
    "    for _ in range(15):\n",
    "        designation = random.choice(new_zealand_designations)\n",
    "        \n",
    "        label = {\n",
    "            \"grape\": random.choice(new_zealand_grapes),\n",
    "            \"region\": region,\n",
    "            \"vintage\": random.choice(vintages),\n",
    "            \"estate\": random.choice([True, False]),\n",
    "            \"grape_law\": 0.85,\n",
    "            \"region_law\": 0.85,\n",
    "            \"vintage_law\": 0.85,\n",
    "            \"country\": \"new zealand\",\n",
    "            \"designation\": designation\n",
    "        }\n",
    "        df.loc[len(df)] = label\n"
   ]
  },
  {
   "cell_type": "markdown",
   "id": "0ccb84db-8864-44ec-b638-7b2fbf2f017b",
   "metadata": {},
   "source": [
    "### Australia ###\n",
    "\n",
    "technically supposed to be 95% region law if there are multiple GIs but that is currently not handled"
   ]
  },
  {
   "cell_type": "code",
   "execution_count": 15,
   "id": "6451e2e3-6710-4120-9b3f-c78318cb3543",
   "metadata": {},
   "outputs": [],
   "source": [
    "# Wine categories\n",
    "australia_grapes = [\n",
    "    'sauvignon blanc', 'pinot noir', 'chardonnay', 'merlot', \n",
    "    'cabernet sauvignon', 'syrah', 'riesling', 'pinot gris', 'pinot grigio', 'grenache'\n",
    "    'shiraz', 'malbec', 'colombard', 'muscat gordo blanco', 'semillon', 'viognier'\n",
    "]\n",
    "\n",
    "australia_regions = [\n",
    "    'hunter valley', 'yarra valley', 'adelaide hills', 'barossa valley', 'clare valley', \n",
    "    'mclaren vale', 'margaret river', 'rutherglen', 'coonawarra', 'mornington peninsula', \n",
    "    'tasmania', 'geographe', 'australia'\n",
    "]\n",
    "\n",
    "australia_designations = ['Country', 'GI', 'Sub-region', 'Reserve']\n",
    "vintages = np.arange(2010, 2023)\n",
    "\n",
    "# Australia generation logic\n",
    "for region in australia_regions:\n",
    "    for _ in range(15):\n",
    "        designation = random.choice(australia_designations)\n",
    "        \n",
    "        label = {\n",
    "            \"grape\": random.choice(australia_grapes),\n",
    "            \"region\": region,\n",
    "            \"vintage\": random.choice(vintages),\n",
    "            \"estate\": random.choice([True, False]),\n",
    "            \"grape_law\": 0.85,\n",
    "            \"region_law\": 0.85,\n",
    "            \"vintage_law\": 0.95,\n",
    "            \"country\": \"australia\",\n",
    "            \"designation\": designation\n",
    "        }\n",
    "        df.loc[len(df)] = label\n"
   ]
  },
  {
   "cell_type": "code",
   "execution_count": 16,
   "id": "c5c087ca-4a99-47cf-bd00-a2e1b2188ecd",
   "metadata": {},
   "outputs": [
    {
     "name": "stdout",
     "output_type": "stream",
     "text": [
      "\n",
      "Generated NZ/AU Wine Dataset:\n",
      "                grape       region  vintage  estate  grape_law  region_law  \\\n",
      "0          pinot noir  marlborough     2022   False       0.85        0.85   \n",
      "1          pinot gris  marlborough     2017    True       0.85        0.85   \n",
      "2  cabernet sauvignon  marlborough     2022   False       0.85        0.85   \n",
      "3          chardonnay  marlborough     2024    True       0.85        0.85   \n",
      "4          pinot gris  marlborough     2017   False       0.85        0.85   \n",
      "5              malbec  marlborough     2018    True       0.85        0.85   \n",
      "6              merlot  marlborough     2020    True       0.85        0.85   \n",
      "7     sauvignon blanc  marlborough     2020    True       0.85        0.85   \n",
      "8              malbec  marlborough     2022    True       0.85        0.85   \n",
      "9          pinot noir  marlborough     2024    True       0.85        0.85   \n",
      "\n",
      "   vintage_law      country designation  \n",
      "0         0.85  new zealand          GI  \n",
      "1         0.85  new zealand          GI  \n",
      "2         0.85  new zealand  Sub-region  \n",
      "3         0.85  new zealand     Country  \n",
      "4         0.85  new zealand     Country  \n",
      "5         0.85  new zealand          GI  \n",
      "6         0.85  new zealand  Sub-region  \n",
      "7         0.85  new zealand  Sub-region  \n",
      "8         0.85  new zealand  Sub-region  \n",
      "9         0.85  new zealand     Country  \n"
     ]
    }
   ],
   "source": [
    "# --- Save to CSV ---\n",
    "df.to_csv(\"NZ_AU_wines.csv\", index=False)\n",
    "\n",
    "# --- Preview ---\n",
    "print(\"\\nGenerated NZ/AU Wine Dataset:\")\n",
    "print(df.head(10))"
   ]
  },
  {
   "cell_type": "code",
   "execution_count": null,
   "id": "fb21658a-cc27-47b3-931e-d0940a6d3b40",
   "metadata": {},
   "outputs": [],
   "source": []
  },
  {
   "cell_type": "code",
   "execution_count": null,
   "id": "cb6db803-f065-4cf2-91c8-24403aba3c41",
   "metadata": {},
   "outputs": [],
   "source": []
  },
  {
   "cell_type": "code",
   "execution_count": null,
   "id": "7e93773a-dfe6-4b96-b484-7681f455edee",
   "metadata": {},
   "outputs": [],
   "source": []
  },
  {
   "cell_type": "code",
   "execution_count": null,
   "id": "dfbf7910-48c5-4b46-8448-8890bcaafab6",
   "metadata": {},
   "outputs": [],
   "source": []
  }
 ],
 "metadata": {
  "kernelspec": {
   "display_name": "Python 3 (ipykernel)",
   "language": "python",
   "name": "python3"
  },
  "language_info": {
   "codemirror_mode": {
    "name": "ipython",
    "version": 3
   },
   "file_extension": ".py",
   "mimetype": "text/x-python",
   "name": "python",
   "nbconvert_exporter": "python",
   "pygments_lexer": "ipython3",
   "version": "3.12.9"
  }
 },
 "nbformat": 4,
 "nbformat_minor": 5
}
